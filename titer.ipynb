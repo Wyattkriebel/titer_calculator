{
 "cells": [
  {
   "cell_type": "code",
   "execution_count": 1,
   "metadata": {},
   "outputs": [],
   "source": [
    "import pandas as pd\n",
    "import numpy as np\n",
    "import statistics\n",
    "import matplotlib as plt"
   ]
  },
  {
   "attachments": {},
   "cell_type": "markdown",
   "metadata": {},
   "source": [
    "**Get input for file**\n",
    "\n",
    "- below are two inputs\n",
    "    - data \n",
    "    - samples\n",
    "- these inputs take in the excel file and read the data assigning the amount of cells [samples] needed to read in later lines\n",
    "\n",
    "- the excel is turned into a data frame and the data is displayed below"
   ]
  },
  {
   "cell_type": "code",
   "execution_count": 2,
   "metadata": {},
   "outputs": [
    {
     "data": {
      "text/html": [
       "<div>\n",
       "<style scoped>\n",
       "    .dataframe tbody tr th:only-of-type {\n",
       "        vertical-align: middle;\n",
       "    }\n",
       "\n",
       "    .dataframe tbody tr th {\n",
       "        vertical-align: top;\n",
       "    }\n",
       "\n",
       "    .dataframe thead th {\n",
       "        text-align: right;\n",
       "    }\n",
       "</style>\n",
       "<table border=\"1\" class=\"dataframe\">\n",
       "  <thead>\n",
       "    <tr style=\"text-align: right;\">\n",
       "      <th></th>\n",
       "      <th>Unnamed: 0</th>\n",
       "      <th>Temperature(¡C)</th>\n",
       "      <th>1</th>\n",
       "      <th>2</th>\n",
       "      <th>3</th>\n",
       "      <th>4</th>\n",
       "      <th>5</th>\n",
       "      <th>6</th>\n",
       "      <th>7</th>\n",
       "      <th>8</th>\n",
       "      <th>9</th>\n",
       "      <th>10</th>\n",
       "      <th>11</th>\n",
       "      <th>12</th>\n",
       "    </tr>\n",
       "  </thead>\n",
       "  <tbody>\n",
       "    <tr>\n",
       "      <th>0</th>\n",
       "      <td>NaN</td>\n",
       "      <td>STD</td>\n",
       "      <td>454.071</td>\n",
       "      <td>284.94</td>\n",
       "      <td>147.609</td>\n",
       "      <td>81.266</td>\n",
       "      <td>39.527</td>\n",
       "      <td>19.359</td>\n",
       "      <td>11.515</td>\n",
       "      <td>5.574</td>\n",
       "      <td>3.377</td>\n",
       "      <td>2.075</td>\n",
       "      <td>1.772</td>\n",
       "      <td>0.973</td>\n",
       "    </tr>\n",
       "    <tr>\n",
       "      <th>1</th>\n",
       "      <td>NaN</td>\n",
       "      <td>HOT</td>\n",
       "      <td>74.511</td>\n",
       "      <td>25.078</td>\n",
       "      <td>2.019</td>\n",
       "      <td>1.476</td>\n",
       "      <td>2.278</td>\n",
       "      <td>2.031</td>\n",
       "      <td>1.621</td>\n",
       "      <td>2.012</td>\n",
       "      <td>1.888</td>\n",
       "      <td>1.913</td>\n",
       "      <td>1.979</td>\n",
       "      <td>2.002</td>\n",
       "    </tr>\n",
       "    <tr>\n",
       "      <th>2</th>\n",
       "      <td>NaN</td>\n",
       "      <td>COLD</td>\n",
       "      <td>13.498</td>\n",
       "      <td>8.007</td>\n",
       "      <td>2.005</td>\n",
       "      <td>1.886</td>\n",
       "      <td>1.886</td>\n",
       "      <td>1.788</td>\n",
       "      <td>1.841</td>\n",
       "      <td>2.021</td>\n",
       "      <td>2.277</td>\n",
       "      <td>2.153</td>\n",
       "      <td>1.903</td>\n",
       "      <td>2.197</td>\n",
       "    </tr>\n",
       "    <tr>\n",
       "      <th>3</th>\n",
       "      <td>NaN</td>\n",
       "      <td>NaN</td>\n",
       "      <td>CAG-OCA1</td>\n",
       "      <td>VMD2-OCA1</td>\n",
       "      <td>NaN</td>\n",
       "      <td>NaN</td>\n",
       "      <td>NaN</td>\n",
       "      <td>NaN</td>\n",
       "      <td>NaN</td>\n",
       "      <td>NaN</td>\n",
       "      <td>NaN</td>\n",
       "      <td>NaN</td>\n",
       "      <td>NaN</td>\n",
       "      <td>NaN</td>\n",
       "    </tr>\n",
       "  </tbody>\n",
       "</table>\n",
       "</div>"
      ],
      "text/plain": [
       "   Unnamed: 0 Temperature(¡C)         1          2        3       4       5   \n",
       "0         NaN             STD   454.071     284.94  147.609  81.266  39.527  \\\n",
       "1         NaN             HOT    74.511     25.078    2.019   1.476   2.278   \n",
       "2         NaN            COLD    13.498      8.007    2.005   1.886   1.886   \n",
       "3         NaN             NaN  CAG-OCA1  VMD2-OCA1      NaN     NaN     NaN   \n",
       "\n",
       "        6       7      8      9     10     11     12  \n",
       "0  19.359  11.515  5.574  3.377  2.075  1.772  0.973  \n",
       "1   2.031   1.621  2.012  1.888  1.913  1.979  2.002  \n",
       "2   1.788   1.841  2.021  2.277  2.153  1.903  2.197  \n",
       "3     NaN     NaN    NaN    NaN    NaN    NaN    NaN  "
      ]
     },
     "execution_count": 2,
     "metadata": {},
     "output_type": "execute_result"
    }
   ],
   "source": [
    "data = input(\"Please Enter File name with extension: \") #TODO: change this and line 32 to be taken in from the gui \n",
    "samples = int(input(\"Please Enter number of samples: \"))\n",
    "exceldata = pd.read_excel(data)\n",
    "df = pd.DataFrame(exceldata)\n",
    "df"
   ]
  },
  {
   "attachments": {},
   "cell_type": "markdown",
   "metadata": {},
   "source": [
    "**Creation of standard variables**\n",
    "\n",
    "*important globals for calculations*\n",
    "- dfHOT = the hot standard samples needed for titer calculations\n",
    "- dfCOLD = the cold standard samples need for titer calculations\n",
    "\n",
    "*Type 1*\n",
    "- DNAdf = The indented serial dilution of the DNA standard \n",
    "- dfSTD = The actual experimental serial dilution of the AAV DNA standard\n",
    "\n",
    "*type 2*\n",
    "- DNAdf2 = the intended serial dilution but not including 100 if the r^2 value is better for this result \n",
    "- dfSTD2 = the acctual experimental serial dilution of the AAV DNA standard again just not including 100 \n",
    "\n",
    "*creating numpy arrays*\n",
    "- econc = DNAdf array\n",
    "- aconc = dfSTD array\n",
    "- econc2 = DNAdf2 array\n",
    "- aconc2 = dfSTD2 array\n",
    "- hot = dfHOT array\n",
    "- cold = dfCOLD array"
   ]
  },
  {
   "cell_type": "code",
   "execution_count": 3,
   "metadata": {},
   "outputs": [
    {
     "name": "stdout",
     "output_type": "stream",
     "text": [
      "[74.511 25.078]\n",
      "[13.498  8.007]\n"
     ]
    }
   ],
   "source": [
    "##################################################################################################\n",
    "DNAdf = [100, 50, 25, 12.5, 6.25, 3.125, 1.56, 0.78, 0.39, 0.195, 0.1, 0] #serial dilution df\n",
    "dfSTD = df.iloc[0, 2:] #extracts STD data into new DF\n",
    "dfHOT = df.iloc[1, 2:2+samples] #extracts hot data into new DF\n",
    "dfCOLD = df.iloc[2, 2:2+samples] #extracts cold Data into new DF \n",
    "##################################################################################################\n",
    "DNAdf2 = [50, 25, 12.5, 6.25, 3.125, 1.56, 0.78, 0.39, 0.195, 0.1, 0] #serial dilution for calculating based on only 11 values (calculate better r value)\n",
    "dfSTD2 = df.iloc[0, 3:] #extract viral df to match with the serial dilution length\n",
    "econc2 = np.array(DNAdf2, dtype=np.float64) #expected DNA concentration per sample \n",
    "aconc2 = np.array(dfSTD2, dtype=np.float64) #actual DNA concentration per sample \n",
    "##################################################################################################\n",
    "econc = np.array(DNAdf, dtype=np.float64) #expected DNA concentration per sample \n",
    "aconc = np.array(dfSTD, dtype=np.float64) #actual values\n",
    "hot = np.array(dfHOT, dtype=np.float64) #hot samples \n",
    "cold = np.array(dfCOLD, dtype=np.float64) #cold samples \n",
    "##################################################################################################\n",
    "\n",
    "print(hot)\n",
    "print(cold)"
   ]
  },
  {
   "attachments": {},
   "cell_type": "markdown",
   "metadata": {},
   "source": [
    "**creating functions for calculations**"
   ]
  },
  {
   "cell_type": "code",
   "execution_count": 4,
   "metadata": {},
   "outputs": [],
   "source": [
    "def rSquared(act_results, expected_results, slope, intercept): #function that determines the r square value\n",
    "    ss_error = 0 #sum squared error \n",
    "    ss_tot = 0 #sum squared total\n",
    "    for i in range(len(aconc-1)): \n",
    "        ss_error += (act_results[i] - slope * expected_results[i] + intercept)**2 #from index 0 to 11 take that array value and subract the line of best fit position \n",
    "        ss_tot += ( aconc[i]-statistics.mean(aconc))**2 # for each point in the array subtract the mean from it\n",
    "    r_square = round(1 - (ss_error/ss_tot), 4) # r squared = (1 - (ss_error/ss_tot)) then round to 4 decimal points\n",
    "    return r_square # return the r square value \n",
    "\n",
    "\n",
    "def compareR(r1, r2): # a function that compares the r square values to determine the better\n",
    "    if(r1>r2):\n",
    "        return r1\n",
    "    elif(r1 == r2):\n",
    "        return r1\n",
    "    else:\n",
    "        return r2\n",
    "\n",
    "\n",
    "def titer(sample_difference, slope, intercept): #function that calculates the actual titer of the virus \n",
    "    titerlist = []\n",
    "    for i in range(len(sample_difference)):\n",
    "        reshape = (sample_difference[i] - intercept )/slope\n",
    "        titer = scientific_notation=\"{:e}\".format((15*reshape*360000000*(15/13.5))/0.01)\n",
    "        titerlist.append(titer)\n",
    "    return titerlist\n",
    "    \n"
   ]
  },
  {
   "attachments": {},
   "cell_type": "markdown",
   "metadata": {},
   "source": [
    "**Final Calculations**"
   ]
  },
  {
   "cell_type": "code",
   "execution_count": 5,
   "metadata": {},
   "outputs": [
    {
     "data": {
      "text/plain": [
       "['6.726481e+12', '1.134795e+12']"
      ]
     },
     "execution_count": 5,
     "metadata": {},
     "output_type": "execute_result"
    }
   ],
   "source": [
    "def calculate():\n",
    "    diff =[]\n",
    "    if len(econc) == len(aconc):\n",
    "        for conc in range(len(aconc)):\n",
    "            aconc[conc] = aconc[conc] - aconc[len(aconc)-1] #reshapes the data by subtracting irrelevant noise from the samples (ie cell 12 where there should be no DNA conc.)\n",
    "\n",
    "    if len(hot) == len(cold):\n",
    "        for sample in range(len(hot)):\n",
    "            diff.append(hot[sample] - cold[sample]) # take the difference between hot and cold and append that difference to a list\n",
    "    \n",
    "    hcDiff = np.array(diff, dtype=np.float64) #turn the list into an np array\n",
    "    slope, intercept = np.polyfit(econc, aconc, 1)\n",
    "\n",
    "    return (titer(hcDiff, slope, intercept)) ##TODO: change this \n",
    "\n",
    "calculate()"
   ]
  }
 ],
 "metadata": {
  "kernelspec": {
   "display_name": "Python 3",
   "language": "python",
   "name": "python3"
  },
  "language_info": {
   "codemirror_mode": {
    "name": "ipython",
    "version": 3
   },
   "file_extension": ".py",
   "mimetype": "text/x-python",
   "name": "python",
   "nbconvert_exporter": "python",
   "pygments_lexer": "ipython3",
   "version": "3.10.4"
  },
  "orig_nbformat": 4
 },
 "nbformat": 4,
 "nbformat_minor": 2
}
